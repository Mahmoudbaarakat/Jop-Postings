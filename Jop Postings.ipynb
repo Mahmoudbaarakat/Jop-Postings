{
 "cells": [
  {
   "cell_type": "code",
   "execution_count": 1,
   "id": "d83808bf",
   "metadata": {},
   "outputs": [],
   "source": [
    "import pandas as pd\n",
    "import json"
   ]
  },
  {
   "cell_type": "code",
   "execution_count": 2,
   "id": "03e7614d",
   "metadata": {},
   "outputs": [
    {
     "name": "stdout",
     "output_type": "stream",
     "text": [
      "Number of jobs related to Python technology: 1173\n"
     ]
    }
   ],
   "source": [
    "def count_python_jobs(json_file_path):\n",
    "    # Load data from the JSON file\n",
    "    with open(json_file_path, 'r', encoding='utf-8') as file:\n",
    "        data = json.load(file)\n",
    "\n",
    "    # Define the search term for Python technology\n",
    "    python_keywords = ['Python']\n",
    "\n",
    "    # Count the number of jobs related to Python\n",
    "    python_jobs_count = 0\n",
    "    for job in data:\n",
    "        key_skills = job.get('Key Skills', '')\n",
    "        if any(keyword.lower() in key_skills.lower() for keyword in python_keywords):\n",
    "            python_jobs_count += 1\n",
    "\n",
    "    return python_jobs_count\n",
    "\n",
    "# Example usage:\n",
    "json_file_path = 'jobs.json'  # Replace with the actual path to your JSON file\n",
    "result = count_python_jobs(json_file_path)\n",
    "print(f\"Number of jobs related to Python technology: {result}\")\n"
   ]
  },
  {
   "cell_type": "code",
   "execution_count": 3,
   "id": "11894ec1",
   "metadata": {},
   "outputs": [
    {
     "name": "stdout",
     "output_type": "stream",
     "text": [
      "Number of jobs in the US for Los Angeles: 640\n"
     ]
    }
   ],
   "source": [
    "def count_jobs_in_us_from_file(json_file_path, location):\n",
    "    # Load data from the JSON file\n",
    "    with open(json_file_path, 'r', encoding='utf-8') as file:\n",
    "        data = json.load(file)\n",
    "\n",
    "    # Define the search location\n",
    "    location_keywords = [location]\n",
    "\n",
    "    # Count the number of jobs in the specified location\n",
    "    jobs_count = 0\n",
    "    for job in data:\n",
    "        job_location = job.get('Location', '')\n",
    "        if any(keyword.lower() in job_location.lower() for keyword in location_keywords):\n",
    "            jobs_count += 1\n",
    "\n",
    "    return jobs_count\n",
    "\n",
    "# Example usage:\n",
    "json_file_path = 'jobs.json'  # Replace with the actual path to your JSON file\n",
    "location_to_search = 'Los Angeles'  # Replace with the location of your choice\n",
    "result = count_jobs_in_us_from_file(json_file_path, location_to_search)\n",
    "\n",
    "# Print the result\n",
    "print(f\"Number of jobs in the US for {location_to_search}: {result}\")\n"
   ]
  },
  {
   "cell_type": "code",
   "execution_count": 4,
   "id": "356d4d24",
   "metadata": {},
   "outputs": [],
   "source": [
    "locations_list = [\"New York\", \"Los Angeles\", \"California\"]"
   ]
  },
  {
   "cell_type": "code",
   "execution_count": 5,
   "id": "44ab7b4f",
   "metadata": {},
   "outputs": [
    {
     "name": "stdout",
     "output_type": "stream",
     "text": [
      "Requirement already satisfied: pandas in c:\\programdata\\anaconda3\\lib\\site-packages (1.4.4)\n",
      "Requirement already satisfied: openpyxl in c:\\programdata\\anaconda3\\lib\\site-packages (3.0.10)\n",
      "Requirement already satisfied: xlrd in c:\\programdata\\anaconda3\\lib\\site-packages (2.0.1)\n",
      "Requirement already satisfied: pytz>=2020.1 in c:\\users\\lenovo\\appdata\\roaming\\python\\python39\\site-packages (from pandas) (2023.3)\n",
      "Requirement already satisfied: numpy>=1.18.5 in c:\\users\\lenovo\\appdata\\roaming\\python\\python39\\site-packages (from pandas) (1.24.3)\n",
      "Requirement already satisfied: python-dateutil>=2.8.1 in c:\\programdata\\anaconda3\\lib\\site-packages (from pandas) (2.8.2)\n",
      "Requirement already satisfied: et_xmlfile in c:\\programdata\\anaconda3\\lib\\site-packages (from openpyxl) (1.1.0)\n",
      "Requirement already satisfied: six>=1.5 in c:\\programdata\\anaconda3\\lib\\site-packages (from python-dateutil>=2.8.1->pandas) (1.16.0)\n",
      "Note: you may need to restart the kernel to use updated packages.\n"
     ]
    }
   ],
   "source": [
    "pip install pandas openpyxl xlrd"
   ]
  },
  {
   "cell_type": "code",
   "execution_count": 8,
   "id": "155a901c",
   "metadata": {},
   "outputs": [
    {
     "name": "stdout",
     "output_type": "stream",
     "text": [
      "Excel file created.\n"
     ]
    }
   ],
   "source": [
    "import pandas as pd\n",
    "import openpyxl\n",
    "\n",
    "# Load data from the JSON file into a DataFrame\n",
    "json_file_path = 'jobs.json'  # Replace with the actual path to your JSON file\n",
    "df = pd.read_json(json_file_path)\n",
    "\n",
    "# List of locations\n",
    "locations_list = [\"Los Angeles\", \"New York\", \"San Francisco\", \"Washington DC\", \"Seattle\"]\n",
    "\n",
    "# Create a new workbook\n",
    "workbook = openpyxl.Workbook()\n",
    "\n",
    "# Create a summary sheet\n",
    "summary_sheet = workbook.active\n",
    "summary_sheet.title = 'Jops Postings'\n",
    "summary_sheet['A1'] = 'Location'\n",
    "summary_sheet['B1'] = 'Number of Job Postings'\n",
    "\n",
    "# Iterate through each location and count the number of job postings\n",
    "for i, location in enumerate(locations_list, start=2):  # Start from row 2\n",
    "    job_count = df[df['Location'] == location].shape[0]\n",
    "\n",
    "    # Write data to the summary sheet\n",
    "    summary_sheet[f'A{i}'] = location\n",
    "    summary_sheet[f'B{i}'] = job_count\n",
    "\n",
    "# Save the workbook to a file\n",
    "workbook.save('job_postings.xlsx')\n",
    "\n",
    "print(\"Excel file created.\")\n"
   ]
  },
  {
   "cell_type": "code",
   "execution_count": null,
   "id": "1dc1d527",
   "metadata": {},
   "outputs": [],
   "source": []
  }
 ],
 "metadata": {
  "kernelspec": {
   "display_name": "Python 3 (ipykernel)",
   "language": "python",
   "name": "python3"
  },
  "language_info": {
   "codemirror_mode": {
    "name": "ipython",
    "version": 3
   },
   "file_extension": ".py",
   "mimetype": "text/x-python",
   "name": "python",
   "nbconvert_exporter": "python",
   "pygments_lexer": "ipython3",
   "version": "3.9.13"
  }
 },
 "nbformat": 4,
 "nbformat_minor": 5
}
